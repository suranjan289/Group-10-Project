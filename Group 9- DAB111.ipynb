{
 "cells": [
  {
   "cell_type": "code",
   "execution_count": 6,
   "id": "4b446ea5-3ce1-4209-91ff-1daa219e81f0",
   "metadata": {
    "tags": []
   },
   "outputs": [],
   "source": [
    "# data_collection/collect_data.py\n",
    "\n",
    "import pandas as pd\n",
    "\n",
    "# Load the dataset\n",
    "data = pd.read_csv('Coffee_Shop_Sales.csv')\n",
    "\n",
    "# Save the data to a CSV file (optional)\n",
    "data.to_csv('coffee_shop_sales_data.csv', index=False)\n"
   ]
  },
  {
   "cell_type": "code",
   "execution_count": 7,
   "id": "676da9d8-faa7-4f5a-a594-4250395425d1",
   "metadata": {
    "tags": []
   },
   "outputs": [],
   "source": [
    "# database/create_database.py\n",
    "\n",
    "import sqlite3\n",
    "import pandas as pd\n",
    "\n",
    "# Load your data\n",
    "data = pd.read_csv('coffee_shop_sales_data.csv')\n",
    "\n",
    "# Connect to SQLite database\n",
    "conn = sqlite3.connect('coffee_shop_sales.db')\n",
    "cursor = conn.cursor()\n",
    "\n",
    "# Create table\n",
    "cursor.execute('''\n",
    "    CREATE TABLE IF NOT EXISTS coffee_sales (\n",
    "        transaction_id INTEGER,\n",
    "        transaction_date TEXT,\n",
    "        transaction_time TEXT,\n",
    "        transaction_qty INTEGER,\n",
    "        store_id INTEGER,\n",
    "        store_location TEXT,\n",
    "        product_id INTEGER,\n",
    "        unit_price REAL,\n",
    "        product_category TEXT,\n",
    "        product_type TEXT,\n",
    "        product_detail TEXT\n",
    "    )\n",
    "''')\n",
    "\n",
    "# Insert data into the table\n",
    "data.to_sql('coffee_sales', conn, index=False, if_exists='replace')\n",
    "\n",
    "# Commit and close connection\n",
    "conn.commit()\n",
    "conn.close()"
   ]
  }
 ],
 "metadata": {
  "kernelspec": {
   "display_name": "Python 3 (ipykernel)",
   "language": "python",
   "name": "python3"
  },
  "language_info": {
   "codemirror_mode": {
    "name": "ipython",
    "version": 3
   },
   "file_extension": ".py",
   "mimetype": "text/x-python",
   "name": "python",
   "nbconvert_exporter": "python",
   "pygments_lexer": "ipython3",
   "version": "3.11.4"
  }
 },
 "nbformat": 4,
 "nbformat_minor": 5
}
