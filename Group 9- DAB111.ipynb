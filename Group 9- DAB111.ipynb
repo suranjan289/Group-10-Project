{
 "cells": [
  {
   "cell_type": "code",
   "execution_count": 1,
   "id": "4b446ea5-3ce1-4209-91ff-1daa219e81f0",
   "metadata": {
    "tags": []
   },
   "outputs": [],
   "source": [
    "# data_collection/collect_data.py\n",
    "\n",
    "import pandas as pd\n",
    "\n",
    "# Load the dataset\n",
    "data = pd.read_csv('Coffee_Shop_Sales.csv')\n",
    "\n",
    "# Save the data to a CSV file (optional)\n",
    "data.to_csv('coffee_shop_sales_data.csv', index=False)\n"
   ]
  },
  {
   "cell_type": "code",
   "execution_count": 2,
   "id": "676da9d8-faa7-4f5a-a594-4250395425d1",
   "metadata": {
    "tags": []
   },
   "outputs": [],
   "source": [
    "# database/create_database.py\n",
    "\n",
    "import sqlite3\n",
    "import pandas as pd\n",
    "\n",
    "# Load your data\n",
    "data = pd.read_csv('coffee_shop_sales_data.csv')\n",
    "\n",
    "# Connect to SQLite database\n",
    "conn = sqlite3.connect('coffee_shop_sales.db')\n",
    "cursor = conn.cursor()\n",
    "\n",
    "# Create table\n",
    "cursor.execute('''\n",
    "    CREATE TABLE IF NOT EXISTS coffee_sales (\n",
    "        transaction_id INTEGER,\n",
    "        transaction_date TEXT,\n",
    "        transaction_time TEXT,\n",
    "        transaction_qty INTEGER,\n",
    "        store_id INTEGER,\n",
    "        store_location TEXT,\n",
    "        product_id INTEGER,\n",
    "        unit_price REAL,\n",
    "        product_category TEXT,\n",
    "        product_type TEXT,\n",
    "        product_detail TEXT\n",
    "    )\n",
    "''')\n",
    "\n",
    "# Insert data into the table\n",
    "data.to_sql('coffee_sales', conn, index=False, if_exists='replace')\n",
    "\n",
    "# Commit and close connection\n",
    "conn.commit()\n",
    "conn.close()"
   ]
  },
  {
   "cell_type": "code",
   "execution_count": 3,
   "id": "f0516b7b-0749-4ba1-bb58-032289fa850e",
   "metadata": {
    "tags": []
   },
   "outputs": [
    {
     "name": "stdout",
     "output_type": "stream",
     "text": [
      " * Serving Flask app '__main__'\n",
      " * Debug mode: on\n"
     ]
    },
    {
     "name": "stderr",
     "output_type": "stream",
     "text": [
      "WARNING: This is a development server. Do not use it in a production deployment. Use a production WSGI server instead.\n",
      " * Running on http://127.0.0.1:5000\n",
      "Press CTRL+C to quit\n",
      " * Restarting with watchdog (windowsapi)\n"
     ]
    },
    {
     "ename": "SystemExit",
     "evalue": "1",
     "output_type": "error",
     "traceback": [
      "An exception has occurred, use %tb to see the full traceback.\n",
      "\u001b[1;31mSystemExit\u001b[0m\u001b[1;31m:\u001b[0m 1\n"
     ]
    },
    {
     "name": "stderr",
     "output_type": "stream",
     "text": [
      "C:\\Users\\manna\\anaconda3\\Lib\\site-packages\\IPython\\core\\interactiveshell.py:3513: UserWarning: To exit: use 'exit', 'quit', or Ctrl-D.\n",
      "  warn(\"To exit: use 'exit', 'quit', or Ctrl-D.\", stacklevel=1)\n"
     ]
    }
   ],
   "source": [
    "# website/app.py\n",
    "\n",
    "from flask import Flask, render_template\n",
    "import sqlite3\n",
    "\n",
    "app = Flask(__name__)\n",
    "\n",
    "# Connect to SQLite database\n",
    "conn = sqlite3.connect('coffee_shop_sales.db')\n",
    "cursor = conn.cursor()\n",
    "\n",
    "# Define routes\n",
    "@app.route('/')\n",
    "def index():\n",
    "    return render_template('index.html')\n",
    "\n",
    "@app.route('/about')\n",
    "def about():\n",
    "    # Add logic to fetch information about the data\n",
    "    return render_template('about.html')\n",
    "\n",
    "@app.route('/data')\n",
    "def data():\n",
    "    # Add logic to fetch and display data\n",
    "    return render_template('data.html')\n",
    "\n",
    "# Run the app\n",
    "if __name__ == '__main__':\n",
    "    app.run(debug=True)\n"
   ]
  },
  {
   "cell_type": "code",
   "execution_count": null,
   "id": "ad378ff2-1327-4958-9f79-af15b67a651e",
   "metadata": {},
   "outputs": [],
   "source": []
  }
 ],
 "metadata": {
  "kernelspec": {
   "display_name": "Python 3 (ipykernel)",
   "language": "python",
   "name": "python3"
  },
  "language_info": {
   "codemirror_mode": {
    "name": "ipython",
    "version": 3
   },
   "file_extension": ".py",
   "mimetype": "text/x-python",
   "name": "python",
   "nbconvert_exporter": "python",
   "pygments_lexer": "ipython3",
   "version": "3.11.4"
  }
 },
 "nbformat": 4,
 "nbformat_minor": 5
}
